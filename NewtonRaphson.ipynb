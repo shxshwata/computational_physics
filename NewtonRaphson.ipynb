{
  "nbformat": 4,
  "nbformat_minor": 0,
  "metadata": {
    "colab": {
      "provenance": [],
      "authorship_tag": "ABX9TyNEDUcwpInbw+zl+DKxuj2+",
      "include_colab_link": true
    },
    "kernelspec": {
      "name": "python3",
      "display_name": "Python 3"
    },
    "language_info": {
      "name": "python"
    }
  },
  "cells": [
    {
      "cell_type": "markdown",
      "metadata": {
        "id": "view-in-github",
        "colab_type": "text"
      },
      "source": [
        "<a href=\"https://colab.research.google.com/github/shxshwata/computational_physics/blob/main/NewtonRaphson.ipynb\" target=\"_parent\"><img src=\"https://colab.research.google.com/assets/colab-badge.svg\" alt=\"Open In Colab\"/></a>"
      ]
    },
    {
      "cell_type": "code",
      "execution_count": 1,
      "metadata": {
        "id": "XPROCuK3F2H0"
      },
      "outputs": [],
      "source": [
        "import numpy as np\n",
        "import matplotlib.pyplot as plt\n",
        "import math"
      ]
    },
    {
      "cell_type": "markdown",
      "source": [
        "#Newton Raphson"
      ],
      "metadata": {
        "id": "4PwOWgM5Kllq"
      }
    },
    {
      "cell_type": "markdown",
      "source": [
        "##while loop"
      ],
      "metadata": {
        "id": "xOsKgzNjKpNO"
      }
    },
    {
      "cell_type": "code",
      "source": [
        "def f(x):\n",
        "  return (x**3)-5*x"
      ],
      "metadata": {
        "id": "ef7qfk7dF-w7"
      },
      "execution_count": 2,
      "outputs": []
    },
    {
      "cell_type": "code",
      "source": [
        "def F(x):\n",
        "  return 3*(x**2)-5\n"
      ],
      "metadata": {
        "id": "ZY9gBrf4Gm_L"
      },
      "execution_count": 3,
      "outputs": []
    },
    {
      "cell_type": "code",
      "source": [
        "x0=1.5\n",
        "tol=0.01\n",
        "error=1\n",
        "\n",
        "while (error>tol):\n",
        "  x1=x0-(f(x0)/F(x0))\n",
        "  #print(x1)\n",
        "  error=abs(x1-x0)\n",
        "  x0=x1\n",
        "  print(\"the root is=\",x1)"
      ],
      "metadata": {
        "colab": {
          "base_uri": "https://localhost:8080/"
        },
        "id": "_APAvps1Gt7X",
        "outputId": "530f3236-2fe7-47f7-c7cd-a71e59408dfb"
      },
      "execution_count": 4,
      "outputs": [
        {
          "output_type": "stream",
          "name": "stdout",
          "text": [
            "the root is= 3.857142857142857\n",
            "the root is= 2.8958363984110638\n",
            "the root is= 2.409423408263113\n",
            "the root is= 2.253143981559365\n",
            "the root is= 2.2362601581551442\n",
            "the root is= 2.236068002270503\n"
          ]
        }
      ]
    },
    {
      "cell_type": "markdown",
      "source": [
        "1.5 is the root it converges to"
      ],
      "metadata": {
        "id": "kC8qrvYrIV1W"
      }
    },
    {
      "cell_type": "markdown",
      "source": [
        "Alternative using for loop"
      ],
      "metadata": {
        "id": "QmJtflVWJOLb"
      }
    },
    {
      "cell_type": "markdown",
      "source": [
        "##for loop"
      ],
      "metadata": {
        "id": "10uHxuJuKv_A"
      }
    },
    {
      "cell_type": "code",
      "source": [
        "x0=float(input(\"Enter starting value=\"))\n",
        "\n",
        "n=10\n",
        "tol=0.01\n",
        "for i in range (n):\n",
        "  x1=x0-(f(x0)/F(x0))\n",
        "  #print(x1)\n",
        "  error=abs(x1-x0)\n",
        "  x0=x1\n",
        "  print(\"the root is=\",x1)\n"
      ],
      "metadata": {
        "colab": {
          "base_uri": "https://localhost:8080/"
        },
        "id": "Gx4WFvYFIG1k",
        "outputId": "65cccfdf-968a-435d-a61a-ade71045e04d"
      },
      "execution_count": 5,
      "outputs": [
        {
          "output_type": "stream",
          "name": "stdout",
          "text": [
            "Enter starting value=4\n",
            "the root is= 2.9767441860465116\n",
            "the root is= 2.444231675855667\n",
            "the root is= 2.25995761086244\n",
            "the root is= 2.23644151499301\n",
            "the root is= 2.2360680710630634\n",
            "the root is= 2.2360679774997956\n",
            "the root is= 2.23606797749979\n",
            "the root is= 2.23606797749979\n",
            "the root is= 2.23606797749979\n",
            "the root is= 2.23606797749979\n"
          ]
        }
      ]
    },
    {
      "cell_type": "markdown",
      "source": [
        "#NewtonRaphson(NR)_Dynamic error"
      ],
      "metadata": {
        "id": "R7wqTJ7LKhb7"
      }
    },
    {
      "cell_type": "code",
      "source": [
        "def f1(x):\n",
        "  return np.tan(x)-x"
      ],
      "metadata": {
        "id": "-3uDQ5fcJT2w"
      },
      "execution_count": 6,
      "outputs": []
    },
    {
      "cell_type": "code",
      "source": [
        "def df1(x):\n",
        "  sec_x=1/np.cos(x)\n",
        "  secx_sqr=sec_x**2\n",
        "  return secx_sqr-1\n"
      ],
      "metadata": {
        "id": "HrHZXECoJt_9"
      },
      "execution_count": 7,
      "outputs": []
    },
    {
      "cell_type": "code",
      "source": [
        "x0=float(input(\"Enter starting value=\"))\n",
        "err_prev=1\n",
        "\n",
        "n=10\n",
        "tol=0.01\n",
        "flag=0\n",
        "\n",
        "for i in range(n):\n",
        "  x1=x0-(f1(x0)/df1(x0))\n",
        "  err_current=abs(x1-x0)\n",
        "  x0=x1\n",
        "  #print(x0)\n",
        "  print(\"error current=\",err_current)\n",
        "  if (err_current>err_prev):\n",
        "    flag=+1\n",
        "    break\n",
        "  err_prev=err_current\n",
        "  x0=x1\n",
        "  print(\"the root is=\",x1)"
      ],
      "metadata": {
        "colab": {
          "base_uri": "https://localhost:8080/"
        },
        "id": "9ZN33XLkJ4Nl",
        "outputId": "3da59676-e857-4d24-c1ca-b4b8b5e85ae4"
      },
      "execution_count": 8,
      "outputs": [
        {
          "output_type": "stream",
          "name": "stdout",
          "text": [
            "Enter starting value=7.7\n",
            "error current= 0.03028449007223344\n",
            "the root is= 7.730284490072234\n",
            "error current= 0.004833881824477082\n",
            "the root is= 7.7254506082477565\n",
            "error current= 0.00019846098132614287\n",
            "the root is= 7.72525214726643\n",
            "error current= 3.1032796687924247e-07\n",
            "the root is= 7.7252518369384635\n",
            "error current= 7.567280135845067e-13\n",
            "the root is= 7.725251836937707\n",
            "error current= 0.0\n",
            "the root is= 7.725251836937707\n",
            "error current= 0.0\n",
            "the root is= 7.725251836937707\n",
            "error current= 0.0\n",
            "the root is= 7.725251836937707\n",
            "error current= 0.0\n",
            "the root is= 7.725251836937707\n",
            "error current= 0.0\n",
            "the root is= 7.725251836937707\n"
          ]
        }
      ]
    },
    {
      "cell_type": "markdown",
      "source": [
        "Finding Square root of a number using Newton Raphson"
      ],
      "metadata": {
        "id": "whNjgXioP1mK"
      }
    },
    {
      "cell_type": "code",
      "source": [
        "def sqrt_NR(n,x):\n",
        "  sqrt_root=()"
      ],
      "metadata": {
        "id": "1B9LP9YBLMpn"
      },
      "execution_count": 9,
      "outputs": []
    },
    {
      "cell_type": "markdown",
      "source": [
        "#Secant"
      ],
      "metadata": {
        "id": "9jugD9yeLPEm"
      }
    },
    {
      "cell_type": "code",
      "source": [],
      "metadata": {
        "id": "OOagsBQ2Obun"
      },
      "execution_count": 9,
      "outputs": []
    }
  ]
}